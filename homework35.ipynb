{
 "cells": [
  {
   "cell_type": "code",
   "execution_count": null,
   "metadata": {},
   "outputs": [],
   "source": [
    "# Check if a single boolean is true\n",
    "def check_single_boolean():\n",
    "    value = input(\"Enter True or False: \").capitalize() == \"True\"\n",
    "    if value:\n",
    "        print(\"The boolean is True.\")\n",
    "    else:\n",
    "        print(\"The boolean is False.\")\n",
    "\n",
    "check_single_boolean()\n"
   ]
  },
  {
   "cell_type": "code",
   "execution_count": null,
   "metadata": {},
   "outputs": [],
   "source": [
    "# Check if both booleans are true or if either is true\n",
    "def check_two_booleans():\n",
    "    value1 = input(\"Enter True or False for the first value: \").capitalize() == \"True\"\n",
    "    value2 = input(\"Enter True or False for the second value: \").capitalize() == \"True\"\n",
    "\n",
    "    if value1 and value2:\n",
    "        print(\"Both booleans are True.\")\n",
    "    elif value1 or value2:\n",
    "        print(\"At least one of the booleans is True.\")\n",
    "    else:\n",
    "        print(\"Both booleans are False.\")\n",
    "\n",
    "check_two_booleans()\n"
   ]
  },
  {
   "cell_type": "code",
   "execution_count": null,
   "metadata": {},
   "outputs": [],
   "source": [
    "number = float(input(\"Enter a number: \"))\n",
    "is_greater_than_10 = number > 10\n",
    "\n",
    "if is_greater_than_10:\n",
    "    print(f\"{number} is greater than 10.\")\n",
    "else:\n",
    "    print(f\"{number} is not greater than 10.\")\n"
   ]
  },
  {
   "cell_type": "code",
   "execution_count": null,
   "metadata": {},
   "outputs": [],
   "source": [
    "number = int(input(\"Enter a number: \"))\n",
    "is_three_digits = 100 <= abs(number) < 1000  # Check if the absolute value is between 100 and 999\n",
    "\n",
    "if is_three_digits:\n",
    "    print(f\"{number} is a three-digit number.\")\n",
    "else:\n",
    "    print(f\"{number} is not a three-digit number.\")\n"
   ]
  },
  {
   "cell_type": "code",
   "execution_count": null,
   "metadata": {},
   "outputs": [],
   "source": [
    "def truth_table():\n",
    "    print(\"A\\tB\\tA AND B\\tA OR B\\tNOT A\\tNOT B\")\n",
    "    print(\"-\" * 40)\n",
    "    \n",
    "    # Loop through all combinations of True and False for A and B\n",
    "    for A in [True, False]:\n",
    "        for B in [True, False]:\n",
    "            A_and_B = A and B  # A AND B\n",
    "            A_or_B = A or B    # A OR B\n",
    "            not_A = not A      # NOT A\n",
    "            not_B = not B      # NOT B\n",
    "            \n",
    "            # Print the results in a simple format\n",
    "            print(f\"{A}\\t{B}\\t{A_and_B}\\t\\t{A_or_B}\\t\\t{not_A}\\t\\t{not_B}\")\n",
    "\n",
    "# Call the function to display the truth table\n",
    "truth_table()\n"
   ]
  }
 ],
 "metadata": {
  "kernelspec": {
   "display_name": ".venv",
   "language": "python",
   "name": "python3"
  },
  "language_info": {
   "codemirror_mode": {
    "name": "ipython",
    "version": 3
   },
   "file_extension": ".py",
   "mimetype": "text/x-python",
   "name": "python",
   "nbconvert_exporter": "python",
   "pygments_lexer": "ipython3",
   "version": "3.12.7"
  }
 },
 "nbformat": 4,
 "nbformat_minor": 2
}
