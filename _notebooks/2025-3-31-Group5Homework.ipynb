{
 "cells": [
  {
   "cell_type": "markdown",
   "metadata": {},
   "source": [
    "---\n",
    "layout: post\n",
    "title: Group 5 Homework\n",
    "description: Legal/Ethical Concerns\n",
    "comments: true\n",
    "sticky_rank: 1\n",
    "---"
   ]
  },
  {
   "cell_type": "markdown",
   "metadata": {},
   "source": [
    "### Popcorn Hack #1\n",
    "\n",
    "Intellectual property (IP) protection allows you to be the owner of your intellectual property and to protect yourself against your intellectual property being taken or used without your consent. Patents are one way to protect intellectual property, and offer you the exclusive rights to new processes, technologies, and inventions for 20 years. Copyright applies to creative works - e.g. art work, music, and literature - in which copyrights are automatically created at the time of creation. However, once filed, a copyright provides more protection and redress. Trademarks allow a company to protect their branding (name, logos, slogan) and ensure they develop an adaptable identity in the marketplace. Trade secrets (e.g. formulas, business processes, or proprietary processes) can be protected through confidentiality agreements and internal security processes. Also, you can use contracts and agreements (e.g. NDAs and licensing agreements) to manage disclosure and use. For online representations, it is a good practice to watermark, encrypt, and employ Digital Rights Management (DRM) software to protect against copying or distribution. Ultimately, law enforcement - through filing actions for infringement and working with IP lawyers - protects and preserves your intellectual property rights."
   ]
  },
  {
   "cell_type": "markdown",
   "metadata": {},
   "source": [
    "### Popcorn Hack #2\n",
    "\n",
    "An MIT License is an open-source license that allows anyone to freely use or distribute the software, given that they include the original copyright and a disclaimer of liability. It is very simple and easy, making it one of the most widely used open-source licenses.\n",
    "\n",
    "\n",
    "MIT License\n",
    "\n",
    "Copyright (c) [2025] [Brandon Smurlo]\n",
    "\n",
    "Permission is hereby granted, free of charge, to any person obtaining a copy  \n",
    "of this software and associated documentation files (the \"Software\"), to deal  \n",
    "in the Software without restriction, including without limitation the rights  \n",
    "to use, copy, modify, merge, publish, distribute, sublicense, and/or sell  \n",
    "copies of the Software, and to permit persons to whom the Software is  \n",
    "furnished to do so, subject to the following conditions:  \n",
    "\n",
    "The above copyright notice and this permission notice shall be included in all  \n",
    "copies or substantial portions of the Software.\n",
    "\n",
    "THE SOFTWARE IS PROVIDED \"AS IS\", WITHOUT WARRANTY OF ANY KIND, EXPRESS OR  \n",
    "IMPLIED, INCLUDING BUT NOT LIMITED TO THE WARRANTIES OF MERCHANTABILITY,  \n",
    "FITNESS FOR A PARTICULAR PURPOSE, AND NONINFRINGEMENT. IN NO EVENT SHALL THE  \n",
    "AUTHORS OR COPYRIGHT HOLDERS BE LIABLE FOR ANY CLAIM, DAMAGES, OR OTHER  \n",
    "LIABILITY, WHETHER IN AN ACTION OF CONTRACT, TORT, OR OTHERWISE, ARISING FROM,  \n",
    "OUT OF, OR IN CONNECTION WITH THE SOFTWARE OR THE USE OR OTHER DEALINGS IN THE  \n",
    "SOFTWARE.\n",
    "\n",
    "\n",
    "**Source: OpenAI. ChatGPT, Mar 31 version, 2025, https://openai.com.** (used in order to know the layout of an MIT Lisence)"
   ]
  },
  {
   "cell_type": "markdown",
   "metadata": {},
   "source": [
    "### Popcorn Hack #3\n",
    "\n",
    "A Creative Commons (CC) License is an open copyright license which allows creators to release some permissions for others to use, share, and adapt work but reserve a few rights for themselves. CC licenses range from allowing free use with attribution to the more restrictive forms that do not allow commercial use or modifications.\n",
    "\n",
    "There are exceptions under copyright law that allow for limited use of copyrighted work without a specific permission. One major exception is fair use, where copyrighted material may be used for educational purposes, comment, criticism, news reporting, and research under specific circumstances. Public domain works whose copyrights have expired or never existed in the first place may be used by anyone without restriction. The First Sale Doctrine permits individuals to lend or resell legally acquired copies of copyrighted material. In addition, educational exceptions such as the TEACH Act enable the use of copyrighted material in instruction under limitation. Libraries and archives are subject to provisions granted that enable them to copy works for preservation and study. The majority of works produced by the United States government are public domain at the time of creation.\n",
    "\n",
    "Platformss like Creative Commons, open source, and open access lower intellectual barriers by opening up more access to knowledge and creative content. Creative Commons license enables flexible distribution of creative content, while open source license makes software usable, modifiable, and redistributable without cost. Open access freely provides research papers, academic papers, and data, enabling enhanced knowledge-sharing and innovation. By reducing the restrictions placed on intellectual property, these regimes foster cooperation, access, and progress in many areas."
   ]
  },
  {
   "cell_type": "markdown",
   "metadata": {},
   "source": [
    "### Homework Hack #1\n",
    "\n",
    "**License chosen: MIT License**\n",
    "\n",
    "I selected the MIT License because it represents a simple, permissive license that allows anyone to use, change, and distribute my project freely with only a small attribution requirement. This facilitates keeping my work open-source and publicly available, contributing to innovation and collaboration without impossible constraints. The MIT license is a benefit for my project because it makes it easier to adopt -- developers and companies can adopt it into their projects without legal problems. Users are also given the ability to change things and make improvements to the project that fulfill their needs, which in turn creates a larger and more active community. The license's liability disclaimer also protects me from any legal liability in the case that others use the software.\n",
    "\n"
   ]
  },
  {
   "cell_type": "markdown",
   "metadata": {},
   "source": [
    "### Popcorn Hack #4\n",
    "\n",
    "**With a partner, name as many ways as you can remember to prevent copyright infringement. Write what you came up with in a jupyter notebook. Also write down who you talked to.**\n",
    "\n",
    "**_I talked with Aranya B. about this popcorn hack_**\n",
    "\n",
    "- Register a copyright claim\n",
    "- Use a watermark\n",
    "- Understand Fair Use\n",
    "- Use Public Domain Content\n",
    "- Look for Creative Commons Licenses\n",
    "- Create Your Own Content\n",
    "- Use Stock Images and Videos\n",
    "- Seek Permission\n",
    "- Educate Yourself and Others\n"
   ]
  },
  {
   "cell_type": "markdown",
   "metadata": {},
   "source": [
    "### Works Cited \n",
    "\n",
    "Ahaan, V. (2025, March 31). Legal Ethical Concerns. Retrieved from https://ahaanv19.github.io/big_ideateamteach/"
   ]
  }
 ],
 "metadata": {
  "kernelspec": {
   "display_name": "3.12",
   "language": "python",
   "name": "python3"
  },
  "language_info": {
   "name": "python",
   "version": "3.12.7"
  }
 },
 "nbformat": 4,
 "nbformat_minor": 2
}
