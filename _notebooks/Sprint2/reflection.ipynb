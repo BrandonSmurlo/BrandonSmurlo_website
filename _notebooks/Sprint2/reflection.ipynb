{
 "cells": [
  {
   "cell_type": "raw",
   "metadata": {
    "vscode": {
     "languageId": "raw"
    }
   },
   "source": [
    "---\n",
    "layout: post\n",
    "title: Sprint 2 Reflection\n",
    "description: Reflecting on sprint 2 and achievements made individually and through collaboration\n",
    "categories: [Python]\n",
    "permalink: /jupyter/notebook/reflection\n",
    "menu: nav/tools_setup.html\n",
    "toc: true\n",
    "comments: true\n",
    "---"
   ]
  },
  {
   "cell_type": "markdown",
   "metadata": {},
   "source": []
  }
 ],
 "metadata": {
  "language_info": {
   "name": "python"
  }
 },
 "nbformat": 4,
 "nbformat_minor": 2
}
