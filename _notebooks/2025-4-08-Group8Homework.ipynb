{
 "cells": [
  {
   "cell_type": "markdown",
   "metadata": {},
   "source": [
    "---\n",
    "layout: post\n",
    "title: Group 8 Homework\n",
    "description: Big Idea 3\n",
    "comments: true\n",
    "sticky_rank: 1\n",
    "---"
   ]
  },
  {
   "cell_type": "markdown",
   "metadata": {},
   "source": [
    "# Popcorn Hack #1\n"
   ]
  },
  {
   "cell_type": "code",
   "execution_count": null,
   "metadata": {},
   "outputs": [],
   "source": [
    "# Create a list of four famous movies\n",
    "movies = [\"The Godfather\", \"Titanic\", \"Inception\", \"The Dark Knight\"]\n",
    "\n",
    "# Replace the second movie (index 1) with a new movie\n",
    "movies[1] = \"Forrest Gump\"\n",
    "\n",
    "# Add another movie to the end of the list\n",
    "movies.append(\"Pulp Fiction\")\n",
    "\n",
    "# Display the updated list\n",
    "print(movies)"
   ]
  },
  {
   "cell_type": "markdown",
   "metadata": {},
   "source": [
    "# Popcorn Hack 2"
   ]
  },
  {
   "cell_type": "code",
   "execution_count": null,
   "metadata": {},
   "outputs": [],
   "source": [
    "ages = [15, 20, 34, 16, 18, 21, 14, 19]\n",
    "\n",
    "# Create a new list with ages 18 or older\n",
    "eligible_voters = [age for age in ages if age >= 18]\n",
    "\n",
    "print(eligible_voters)"
   ]
  },
  {
   "cell_type": "markdown",
   "metadata": {},
   "source": [
    "# Homework Hack #1\n",
    "\n",
    "**Video Notes: Python Lists Python Tutorial Learn Python Programming**\n",
    "\n",
    "\n",
    "- Python lists store ordered data, and order is important (unlike sets).\n",
    "\n",
    "- Lists can be created using the list constructor or by using brackets.\n",
    "\n",
    "- Values can be added to a list using the \"append\" method.\n",
    "\n",
    "- List elements are indexed starting from 0, and negative indices wrap around from the end.\n",
    "\n",
    "- You can access a range of values in a list using slicing (e.g., list[start:stop]).\n",
    "\n",
    "- Lists can contain different data types (integers, strings, booleans, etc.) and even other lists.\n",
    "\n",
    "- You can combine lists using concatenation (+), but order matters when combining them.\n",
    "\n",
    "**Video Notes: Python Tutorial: Comprehensions - How they work and why you should be using them**\n",
    "\n",
    "- List Comprehensions simplify code by allowing you to create lists in a single line, making it more readable and concise compared to traditional for loops.\n",
    "\n",
    "- Square of Numbers: A simple list comprehension can easily calculate the square of numbers in a list (n * n for n in nums).\n",
    "\n",
    "- Maps and Lambdas: While map() and lambda functions can achieve similar results, list comprehensions are more readable for beginners and often preferred over these.\n",
    "\n",
    "- Filtering Even Numbers: List comprehensions can include conditions, such as filtering even numbers (if n % 2 == 0), making them versatile for transforming lists based on conditions.\n",
    "\n",
    "- Nested Loops: List comprehensions support nested loops, which allows you to generate complex combinations like letter-number pairs from two lists (e.g., A0, A1, A2).\n",
    "\n",
    "- Dictionary Comprehension: You can use comprehensions for dictionaries too, like creating a dictionary from two lists (e.g., names and superhero names) with name: hero.\n",
    "\n",
    "- Set Comprehensions: Just like list comprehensions, set comprehensions can be used to generate sets with unique values by eliminating duplicates automatically.\n"
   ]
  },
  {
   "cell_type": "markdown",
   "metadata": {},
   "source": [
    "# Homework Hack #2"
   ]
  },
  {
   "cell_type": "code",
   "execution_count": null,
   "metadata": {},
   "outputs": [],
   "source": [
    "# Initialize the list containing numbers from 1 to 30\n",
    "nums = list(range(1, 31))\n",
    "\n",
    "# Filter numbers divisible by 3 but not by 5\n",
    "filtered_nums = [n for n in nums if n % 3 == 0 and n % 5 != 0]\n",
    "\n",
    "# Print the original and filtered lists clearly\n",
    "print(\"Original List:\", nums)\n",
    "print(\"Filtered List (divisible by 3 but not 5):\", filtered_nums)"
   ]
  },
  {
   "cell_type": "markdown",
   "metadata": {},
   "source": [
    "# Homework Hack #3"
   ]
  },
  {
   "cell_type": "code",
   "execution_count": null,
   "metadata": {},
   "outputs": [],
   "source": [
    "def filter_long_names(names, min_length):\n",
    "    # Filter and return names that meet or exceed the minimum length\n",
    "    return [name for name in names if len(name) >= min_length]\n",
    "\n",
    "# Test the function with a list of names\n",
    "names_list = [\"John\", \"Alexander\", \"Amy\", \"Elizabeth\", \"Kate\"]\n",
    "min_length = 5\n",
    "\n",
    "# Call the function and print the result\n",
    "filtered_names = filter_long_names(names_list, min_length)\n",
    "print(\"Filtered Names:\", filtered_names)"
   ]
  },
  {
   "cell_type": "markdown",
   "metadata": {},
   "source": [
    "# Review Questions\n",
    "\n",
    "1. **What are lists in Python, and how do you modify/manipulate them?**\n",
    "Lists in Python are ordered, changeable collections used to store multiple items in one variable. You can modify them by changing elements directly using indexing, adding items with append() or insert(), removing items with remove() or pop(), and filtering or transforming them with list comprehensions.\n",
    "\n",
    "2. **Real-world scenario for filtering algorithms:**\n",
    "A streaming service may use a filtering algorithm to recommend movies only to users aged 18 or older. By filtering user profiles based on age, the platform ensures age-appropriate content is shown.\n",
    "\n",
    "3. **Why analyzing filtering algorithm efficiency matters in software development:**\n",
    "Efficient filtering algorithms ensure fast processing, especially with large data sets. This improves performance, scalability, and user experience. Analyzing efficiency helps developers choose solutions that can handle increasing data without slowing down."
   ]
  }
 ],
 "metadata": {
  "kernelspec": {
   "display_name": "venv",
   "language": "python",
   "name": "python3"
  },
  "language_info": {
   "codemirror_mode": {
    "name": "ipython",
    "version": 3
   },
   "file_extension": ".py",
   "mimetype": "text/x-python",
   "name": "python",
   "nbconvert_exporter": "python",
   "pygments_lexer": "ipython3",
   "version": "3.12.7"
  }
 },
 "nbformat": 4,
 "nbformat_minor": 2
}
