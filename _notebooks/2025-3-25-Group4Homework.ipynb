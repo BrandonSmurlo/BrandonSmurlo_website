{
 "cells": [
  {
   "cell_type": "markdown",
   "metadata": {},
   "source": [
    "---\n",
    "layout: post\n",
    "title: Group 4 Homework\n",
    "description: Crowd Sourcing\n",
    "comments: true\n",
    "sticky_rank: 1\n",
    "---"
   ]
  },
  {
   "cell_type": "markdown",
   "metadata": {},
   "source": [
    "### Mango Rating\n",
    "\n",
    "8/10"
   ]
  },
  {
   "cell_type": "markdown",
   "metadata": {},
   "source": [
    "### Popcorn Hack #3\n",
    "\n",
    "GoFundMe\n",
    "GoFundMe is a crowdsourced fundraising platform where individuals can raise money for personal, medical, or charitable causes. It uses crowdsourcing by allowing people to donate small amounts, collectively funding projects or needs that might otherwise be difficult to finance alone."
   ]
  },
  {
   "cell_type": "markdown",
   "metadata": {},
   "source": [
    "### Spotify Songs\n",
    "\n",
    "- \"One Dance\" - Drake\n",
    "\n",
    "- \"We Bring the Boom\" - AJ and Big Justice"
   ]
  },
  {
   "cell_type": "markdown",
   "metadata": {},
   "source": [
    "### Homework Hack #1\n",
    "\n",
    "Crowdsourcing improves the playlist quality by incorporating diverse musical tastes, exposing listeners to new genres and artists, and making the playlist more dynamic. However, it can also harm quality if song choices are too random, clash in style, or disrupt the intended theme, leading to an inconsistent listening experience."
   ]
  }
 ],
 "metadata": {
  "language_info": {
   "name": "python"
  }
 },
 "nbformat": 4,
 "nbformat_minor": 2
}
