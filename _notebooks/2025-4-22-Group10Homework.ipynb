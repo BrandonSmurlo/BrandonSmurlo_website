{
 "cells": [
  {
   "cell_type": "markdown",
   "metadata": {},
   "source": [
    "---\n",
    "layout: post\n",
    "title: Group 10 Homework\n",
    "description: Undecidable and Decidable Problems\n",
    "comments: true\n",
    "sticky_rank: 1\n",
    "---"
   ]
  },
  {
   "cell_type": "markdown",
   "metadata": {},
   "source": [
    "# Popcorn Hack 1\n",
    "\n",
    "False – An algorithm cannot solve an undecidable problem because, by definition, undecidable problems have no algorithm that can solve all cases correctly."
   ]
  },
  {
   "cell_type": "markdown",
   "metadata": {},
   "source": [
    "# Popcorn Hack 2\n",
    "\n",
    "True – While no algorithm can solve all instances of an undecidable problem, programmers may use heuristics or algorithms that work for some cases or most of the time."
   ]
  },
  {
   "cell_type": "markdown",
   "metadata": {},
   "source": [
    "# Popcorn Hack 3\n",
    "\n",
    "ANSWER: D – Bubble sorting is a standard, decidable algorithm. The others involve undecidable problems or theorems about them."
   ]
  },
  {
   "cell_type": "markdown",
   "metadata": {},
   "source": [
    "# Homework Hack\n",
    "\n",
    "**Operating Systems**\n",
    "\n",
    "Mechanisms:\n",
    "\n",
    "Process Scheduling:\n",
    "OSes use time slices (e.g., round-robin scheduling) to prevent any one process from hogging the CPU. This doesn't stop infinite loops but ensures other programs stay responsive.\n",
    "\n",
    "Watchdogs/Task Managers:\n",
    "Users or the system can terminate unresponsive processes via tools like:\n",
    "\n",
    "Windows Task Manager\n",
    "\n",
    "macOS Activity Monitor\n",
    "\n",
    "Linux System Monitor / kill command\n",
    "\n",
    "System Resource Limits:\n",
    "OSes can limit CPU time, memory, or execution time per process. This is common in servers or sandboxed environments.\n",
    "\n",
    "Example:\n",
    "\n",
    "In Windows, a program stuck in an infinite loop may be labeled \"Not Responding,\" allowing the user to force-quit it.\n",
    "\n",
    "\n",
    "\n",
    "**Web Browsers**\n",
    "\n",
    "Mechanisms:\n",
    "\n",
    "Script Timeout Warnings:\n",
    "Browsers detect if a script is running too long and prompt the user with an option to stop it.\n",
    "\n",
    "Event Loop & Thread Separation:\n",
    "JavaScript runs on a single thread, but browsers offload rendering/networking to keep the UI responsive.\n",
    "\n",
    "Crash Recovery:\n",
    "Browsers like Chrome isolate tabs in separate processes. If one crashes due to an infinite loop, only that tab closes, not the entire browser.\n",
    "\n",
    "Real-World Examples:\n",
    "\n",
    "Chrome: Shows “Page Unresponsive – You can wait or exit.”\n",
    "\n",
    "Firefox: Displays “A script on this page may be busy, or it may have stopped responding...”\n",
    "\n",
    "Safari: Silently kills runaway scripts or prompts for user action."
   ]
  },
  {
   "cell_type": "markdown",
   "metadata": {},
   "source": [
    "# Lesson: Graphs & Heuristics"
   ]
  },
  {
   "cell_type": "markdown",
   "metadata": {},
   "source": [
    "# Popcorn Hack 1\n",
    "\n",
    "False – In a directed graph, edges have direction. An edge from node A to node B does not imply there is an edge from B to A unless it is explicitly defined."
   ]
  },
  {
   "cell_type": "markdown",
   "metadata": {},
   "source": [
    "# Popcorn Hack 2\n",
    "\n",
    "True – Heuristics are designed to find good-enough solutions more quickly than exact algorithms, but they may not always be accurate or optimal."
   ]
  },
  {
   "cell_type": "markdown",
   "metadata": {},
   "source": [
    "# Popcorn Hack 3\n",
    "\n",
    "True – Heuristic algorithms like Nearest Neighbor can greatly reduce computation time for the Traveling Salesman Problem (TSP), but they do not guarantee an optimal solution. As the number of cities increases, the difference between the heuristic and optimal solution can become significantly large."
   ]
  },
  {
   "cell_type": "markdown",
   "metadata": {},
   "source": [
    "# Homework Hack\n",
    "\n",
    "**What is Social Network Analysis (SNA)?**\n",
    "\n",
    "Social Network Analysis is the use of graph theory to study relationships and interactions between individuals, groups, or organizations—commonly applied to social media platforms.\n",
    "\n",
    "**How Are Users and Relationships Represented?**\n",
    "\n",
    "Nodes (Vertices):\n",
    "Represent individual users, accounts, or entities in the network.\n",
    "\n",
    "Edges (Links):\n",
    "Represent relationships or interactions between users. These can be:\n",
    "\n",
    "Directed (e.g., A follows B on Twitter)\n",
    "\n",
    "Undirected (e.g., A and B are friends on Facebook)\n",
    "\n",
    "Edges can also have weights to indicate strength (e.g., message frequency).\n",
    "\n",
    "**Real-World Example: Facebook**\n",
    "\n",
    "On Facebook:\n",
    "\n",
    "Nodes = Users\n",
    "\n",
    "Edges = Friendships (undirected), likes, comments, or messages (can be directed)\n",
    "\n",
    "Graph theory helps Facebook:\n",
    "\n",
    "Recommend new friends using mutual connections.\n",
    "\n",
    "Detect communities or interest groups.\n",
    "\n",
    "Identify influential users.\n",
    "\n",
    "Filter spam or detect fake accounts using patterns in connections.\n",
    "\n",
    "Conclusion:\n",
    "Graphs allow social platforms to visualize and analyze vast networks of interactions. By modeling users and relationships as nodes and edges, platforms can improve user experience, security, and recommendation systems."
   ]
  }
 ],
 "metadata": {
  "language_info": {
   "name": "python"
  }
 },
 "nbformat": 4,
 "nbformat_minor": 2
}
