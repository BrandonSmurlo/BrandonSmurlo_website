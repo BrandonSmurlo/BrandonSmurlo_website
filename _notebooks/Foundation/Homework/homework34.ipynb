{
 "cells": [
  {
   "cell_type": "code",
   "execution_count": null,
   "metadata": {},
   "outputs": [],
   "source": [
    "def password_validator():\n",
    "    # Prompt user to input their password\n",
    "    password = input(\"Please enter your password: \")\n",
    "\n",
    "    # Check if password length is at least 8 characters\n",
    "    if len(password) < 8:\n",
    "        return \"Password too short. Must be at least 8 characters.\"\n",
    "\n",
    "    # Check if password contains both uppercase and lowercase letters\n",
    "    if password == password.lower() or password == password.upper():\n",
    "        return \"Password must contain both uppercase and lowercase letters.\"\n",
    "\n",
    "    # Check if password contains at least one digit\n",
    "    if not any(char.isdigit() for char in password):\n",
    "        return \"Password must contain at least one number.\"\n",
    "\n",
    "    # Check if password contains a special character\n",
    "    if not any(char in \"!@#$%^&*()-_+=[]{}|;:'\\\",.<>?/~`\" for char in password):\n",
    "        return \"Password must contain at least one special character.\"\n",
    "\n",
    "    # Optional: Create a fun version of the password\n",
    "    password = password.replace(\"123\", \"abc\")  # Example modification\n",
    "\n",
    "    words = password.split(\" \")\n",
    "    customized_password = \"-\".join(words)  # Join words with a dash\n",
    "\n",
    "    return f\"Password is valid! Here’s a fun version: {customized_password}\"\n",
    "\n",
    "# Call the function to execute the password validation\n",
    "print(password_validator())\n"
   ]
  },
  {
   "cell_type": "code",
   "execution_count": null,
   "metadata": {},
   "outputs": [],
   "source": [
    "import re\n",
    "\n",
    "def analyze_string(input_string):\n",
    "    # Measure the length of the string\n",
    "    length = len(input_string)\n",
    "\n",
    "    # Check if the string is a valid email address\n",
    "    email_pattern = r'^[a-zA-Z0-9._%+-]+@[a-zA-Z0-9.-]+\\.[a-zA-Z]{2,}$'\n",
    "    is_email = bool(re.match(email_pattern, input_string))\n",
    "\n",
    "    # Check if the string is a valid URL\n",
    "    url_pattern = r'^(http|https)://[a-zA-Z0-9.-]+(\\.[a-zA-Z]{2,})?$'\n",
    "    is_url = bool(re.match(url_pattern, input_string))\n",
    "\n",
    "    # Prepare the analysis results\n",
    "    results = f\"Analysis of the input string:\\n\"\n",
    "    results += f\"- Length: {length} characters\\n\"\n",
    "    results += f\"- Valid Email: {'Yes' if is_email else 'No'}\\n\"\n",
    "    results += f\"- Valid URL: {'Yes' if is_url else 'No'}\\n\"\n",
    "\n",
    "    return results\n",
    "\n",
    "# Example usage\n",
    "user_input = input(\"Enter a string to analyze: \")\n",
    "print(analyze_string(user_input))\n"
   ]
  }
 ],
 "metadata": {
  "kernelspec": {
   "display_name": ".venv",
   "language": "python",
   "name": "python3"
  },
  "language_info": {
   "codemirror_mode": {
    "name": "ipython",
    "version": 3
   },
   "file_extension": ".py",
   "mimetype": "text/x-python",
   "name": "python",
   "nbconvert_exporter": "python",
   "pygments_lexer": "ipython3",
   "version": "3.12.7"
  }
 },
 "nbformat": 4,
 "nbformat_minor": 2
}
