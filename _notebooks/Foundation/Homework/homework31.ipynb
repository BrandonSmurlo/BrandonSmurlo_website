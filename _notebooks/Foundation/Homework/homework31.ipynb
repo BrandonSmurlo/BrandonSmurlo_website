{
 "cells": [
  {
   "cell_type": "code",
   "execution_count": null,
   "metadata": {},
   "outputs": [],
   "source": [
    "# Simple Profile Creation Script\n",
    "\n",
    "# Variables to store user profile information\n",
    "first_name = input(\"Enter your first name: \")\n",
    "last_name = input(\"Enter your last name: \")\n",
    "age = input(\"Enter your age: \")\n",
    "email = input(\"Enter your email address: \")\n",
    "city = input(\"Enter your city: \")\n",
    "\n",
    "# Concatenate the information to create a profile\n",
    "profile = f\"\"\"\n",
    "Profile Information:\n",
    "---------------------\n",
    "Name: {first_name} {last_name}\n",
    "Age: {age}\n",
    "Email: {email}\n",
    "City: {city}\n",
    "\"\"\"\n",
    "\n",
    "# Output the profile\n",
    "print(profile)\n"
   ]
  },
  {
   "cell_type": "code",
   "execution_count": null,
   "metadata": {},
   "outputs": [],
   "source": [
    "# Hack: Format and Display Personal Information with Unique ID Generation\n",
    "\n",
    "# Given data set (as input or pre-defined values)\n",
    "first_name = input(\"Enter your first name: \")\n",
    "last_name = input(\"Enter your last name: \")\n",
    "birth_year = input(\"Enter your birth year: \")\n",
    "email = input(\"Enter your email address: \")\n",
    "\n",
    "# Method to generate a unique ID using string slicing and concatenation\n",
    "# Unique ID is created by combining the first 2 letters of the first name,\n",
    "# last 2 letters of the last name, and the last 2 digits of the birth year\n",
    "unique_id = first_name[:2] + last_name[-2:] + birth_year[-2:]\n",
    "\n",
    "# Concatenate the information to format the profile\n",
    "profile = f\"\"\"\n",
    "Formatted Profile Information:\n",
    "------------------------------\n",
    "Full Name : {first_name} {last_name}\n",
    "Birth Year: {birth_year}\n",
    "Email     : {email}\n",
    "Unique ID : {unique_id}\n",
    "\"\"\"\n",
    "\n",
    "# Output the formatted profile\n",
    "print(profile)\n"
   ]
  }
 ],
 "metadata": {
  "kernelspec": {
   "display_name": ".venv",
   "language": "python",
   "name": "python3"
  },
  "language_info": {
   "codemirror_mode": {
    "name": "ipython",
    "version": 3
   },
   "file_extension": ".py",
   "mimetype": "text/x-python",
   "name": "python",
   "nbconvert_exporter": "python",
   "pygments_lexer": "ipython3",
   "version": "3.12.7"
  }
 },
 "nbformat": 4,
 "nbformat_minor": 2
}
