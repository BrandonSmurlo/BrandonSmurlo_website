{
 "cells": [
  {
   "cell_type": "code",
   "execution_count": null,
   "metadata": {},
   "outputs": [],
   "source": [
    "def organize_plants_by_conditions():\n",
    "    # Creating a dictionary to hold plant types based on their growing conditions\n",
    "    plants_by_condition = {\n",
    "        \"Full Sun\": [\n",
    "            \"Sunflower\",\n",
    "            \"Lavender\",\n",
    "            \"Cacti\"\n",
    "        ],\n",
    "        \"Partial Shade\": [\n",
    "            \"Hosta\",\n",
    "            \"Astilbe\",\n",
    "            \"Japanese Maple\"\n",
    "        ],\n",
    "        \"Full Shade\": [\n",
    "            \"Ferns\",\n",
    "            \"Moss\",\n",
    "            \"Toad Lily\"\n",
    "        ],\n",
    "        \"Low Water\": [\n",
    "            \"Succulents\",\n",
    "            \"Agave\",\n",
    "            \"Sedum\"\n",
    "        ],\n",
    "        \"High Water\": [\n",
    "            \"Water Lilies\",\n",
    "            \"Bamboo\",\n",
    "            \"Cattails\"\n",
    "        ]\n",
    "    }\n",
    "\n",
    "    # Display the organized plants by growing conditions\n",
    "    print(\"Plants Organized by Growing Conditions:\\n\")\n",
    "    for condition, plants in plants_by_condition.items():\n",
    "        print(f\"{condition}:\")\n",
    "        for plant in plants:\n",
    "            print(f\"  - {plant}\")\n",
    "        print()  # Add a blank line for better readability\n",
    "\n",
    "# Call the function to display the organized plants\n",
    "organize_plants_by_conditions()\n"
   ]
  }
 ],
 "metadata": {
  "kernelspec": {
   "display_name": ".venv",
   "language": "python",
   "name": "python3"
  },
  "language_info": {
   "codemirror_mode": {
    "name": "ipython",
    "version": 3
   },
   "file_extension": ".py",
   "mimetype": "text/x-python",
   "name": "python",
   "nbconvert_exporter": "python",
   "pygments_lexer": "ipython3",
   "version": "3.12.6"
  }
 },
 "nbformat": 4,
 "nbformat_minor": 2
}
