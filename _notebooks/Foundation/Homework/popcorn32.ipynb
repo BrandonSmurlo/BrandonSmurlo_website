{
 "cells": [
  {
   "cell_type": "code",
   "execution_count": null,
   "metadata": {},
   "outputs": [],
   "source": [
    "def organize_fitness_challenges():\n",
    "    # Creating a dictionary to hold fitness challenges by week\n",
    "    fitness_challenges = {\n",
    "        \"Week 1\": [\n",
    "            \"30-minute cardio workout\",\n",
    "            \"5,000 steps daily goal\",\n",
    "            \"Healthy meal prep\"\n",
    "        ],\n",
    "        \"Week 2\": [\n",
    "            \"Yoga and stretching routine\",\n",
    "            \"Strength training (upper body)\",\n",
    "            \"Hydration challenge (8 cups of water)\"\n",
    "        ],\n",
    "        \"Week 3\": [\n",
    "            \"Strength training (lower body)\",\n",
    "            \"HIIT workout session\",\n",
    "            \"Meditation practice (10 minutes daily)\"\n",
    "        ],\n",
    "        \"Week 4\": [\n",
    "            \"Outdoor run (3 miles)\",\n",
    "            \"Fitness class (Zumba or spinning)\",\n",
    "            \"Daily gratitude journal\"\n",
    "        ]\n",
    "    }\n",
    "\n",
    "    # Display the organized fitness challenges by week\n",
    "    print(\"Fitness Challenges Overview:\\n\")\n",
    "    for week, challenges in fitness_challenges.items():\n",
    "        print(f\"{week}:\")\n",
    "        for challenge in challenges:\n",
    "            print(f\"  - {challenge}\")\n",
    "        print()  # Add a blank line for better readability\n",
    "\n",
    "# Call the function to display the organized fitness challenges\n",
    "organize_fitness_challenges()\n"
   ]
  },
  {
   "cell_type": "code",
   "execution_count": null,
   "metadata": {},
   "outputs": [],
   "source": [
    "\n",
    "def music_playlist():\n",
    "    # Creating a dictionary to hold playlists for different genres\n",
    "    playlists = {\n",
    "        \"Pop\": [\n",
    "            {\"title\": \"Blinding Lights\", \"artist\": \"The Weeknd\", \"duration\": \"3:20\"},\n",
    "            {\"title\": \"Levitating\", \"artist\": \"Dua Lipa\", \"duration\": \"3:24\"},\n",
    "        ],\n",
    "        \"Rock\": [\n",
    "            {\"title\": \"Bohemian Rhapsody\", \"artist\": \"Queen\", \"duration\": \"5:55\"},\n",
    "            {\"title\": \"Hotel California\", \"artist\": \"Eagles\", \"duration\": \"6:30\"},\n",
    "        ],\n",
    "        \"Hip Hop\": [\n",
    "            {\"title\": \"Sicko Mode\", \"artist\": \"Travis Scott\", \"duration\": \"5:12\"},\n",
    "            {\"title\": \"God's Plan\", \"artist\": \"Drake\", \"duration\": \"3:19\"},\n",
    "        ],\n",
    "        \"Classical\": [\n",
    "            {\"title\": \"Clair de Lune\", \"artist\": \"Debussy\", \"duration\": \"5:00\"},\n",
    "            {\"title\": \"Symphony No. 5\", \"artist\": \"Beethoven\", \"duration\": \"7:00\"},\n",
    "        ],\n",
    "    }\n",
    "\n",
    "    # Display the organized music playlists by genre\n",
    "    print(\"Music Playlists Overview:\\n\")\n",
    "    for genre, songs in playlists.items():\n",
    "        print(f\"{genre}:\")\n",
    "        for song in songs:\n",
    "            print(f\"  - {song['title']} by {song['artist']} ({song['duration']})\")\n",
    "        print()  # Add a blank line for better readability\n",
    "\n",
    "# Call the function to display the organized music playlists\n",
    "music_playlist()\n"
   ]
  },
  {
   "cell_type": "code",
   "execution_count": null,
   "metadata": {},
   "outputs": [],
   "source": []
  }
 ],
 "metadata": {
  "kernelspec": {
   "display_name": ".venv",
   "language": "python",
   "name": "python3"
  },
  "language_info": {
   "codemirror_mode": {
    "name": "ipython",
    "version": 3
   },
   "file_extension": ".py",
   "mimetype": "text/x-python",
   "name": "python",
   "nbconvert_exporter": "python",
   "pygments_lexer": "ipython3",
   "version": "3.12.7"
  }
 },
 "nbformat": 4,
 "nbformat_minor": 2
}
