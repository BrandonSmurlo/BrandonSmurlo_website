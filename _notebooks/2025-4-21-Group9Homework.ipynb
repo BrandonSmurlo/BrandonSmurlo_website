{
 "cells": [
  {
   "cell_type": "markdown",
   "metadata": {},
   "source": [
    "---\n",
    "layout: post\n",
    "title: Group 9 Homework Algorithim Efficiency\n",
    "description: Big O\n",
    "comments: true\n",
    "sticky_rank: 1\n",
    "---"
   ]
  },
  {
   "cell_type": "markdown",
   "metadata": {},
   "source": [
    "# Popcorn Hack 1"
   ]
  },
  {
   "cell_type": "code",
   "execution_count": null,
   "metadata": {
    "vscode": {
     "languageId": "plaintext"
    }
   },
   "outputs": [],
   "source": [
    "arr = [1, 2, 3, 4, 5]\n",
    "\n",
    "# Constant time (O(1)) - Access by index\n",
    "print(arr[2])  # Third item (index starts at 0)\n",
    "\n",
    "# Linear time (O(n)) - Loop through all items\n",
    "for item in arr:\n",
    "    print(item)"
   ]
  },
  {
   "cell_type": "markdown",
   "metadata": {},
   "source": [
    "Explanation:\n",
    "\n",
    "arr[2] is constant time because it's a direct index access.\n",
    "\n",
    "The for loop is linear time because it processes each element once.\n",
    "\n",
    "Accessing an array element by index is O(1) because it jumps directly to that position without checking others. Looping through the array is O(n) because it visits each item one by one, taking more time as the array gets bigger."
   ]
  },
  {
   "cell_type": "markdown",
   "metadata": {},
   "source": [
    "# Popcorn Hack #2"
   ]
  },
  {
   "cell_type": "code",
   "execution_count": null,
   "metadata": {
    "vscode": {
     "languageId": "plaintext"
    }
   },
   "outputs": [],
   "source": [
    "def print_unique_pairs(arr):\n",
    "    for i in range(len(arr)):\n",
    "        for j in range(i + 1, len(arr)):\n",
    "            print(f\"({arr[i]},{arr[j]})\")\n",
    "\n",
    "arr = [1, 2, 3]\n",
    "print_unique_pairs(arr)"
   ]
  },
  {
   "cell_type": "markdown",
   "metadata": {},
   "source": [
    "Explanation:\n",
    "This uses two nested loops where each element is paired with every following element. As the array size grows, the number of comparisons grows roughly with the square of the size, making it quadratic time."
   ]
  },
  {
   "cell_type": "markdown",
   "metadata": {},
   "source": [
    "# Popcorn Hack #3\n",
    "\n",
    "1. Which is inefficient for large inputs?\n",
    "**Answer: b) Factorial Time**\n",
    "\n",
    "Explanation: Factorial time (O(n!)) grows extremely fast and becomes unusable even for small inputs. It's much slower than linear (O(n)), constant (O(1)), or linearithmic (O(n log n)) time.\n",
    "\n",
    "2. Which can be represented by a nested loop?\n",
    "**Answer: c) Quadratic Time**\n",
    "\n",
    "Explanation: Quadratic time (O(n²)) often results from a nested loop, where each element is compared with every other element.\n",
    "\n",
    "a) Logarithmic Time is usually from divide-and-conquer (e.g. binary search).\n",
    "\n",
    "b) Linearithmic Time is from divide-and-conquer with a merge step (e.g. merge sort).\n",
    "\n",
    "d) Linear Time comes from a single loop over all elements."
   ]
  },
  {
   "cell_type": "markdown",
   "metadata": {},
   "source": [
    "# Homework Hack #1"
   ]
  },
  {
   "cell_type": "code",
   "execution_count": null,
   "metadata": {
    "vscode": {
     "languageId": "plaintext"
    }
   },
   "outputs": [],
   "source": [
    "def perform_operation(arr, complexity):\n",
    "    if complexity == \"constant\":\n",
    "        return arr[0]  # O(1)\n",
    "    \n",
    "    elif complexity == \"linear\":\n",
    "        for item in arr:  # O(n)\n",
    "            print(item)\n",
    "    \n",
    "    elif complexity == \"quadratic\":\n",
    "        for i in range(len(arr)):  # O(n^2)\n",
    "            for j in range(len(arr)):\n",
    "                print(f\"({arr[i]}, {arr[j]})\")\n",
    "    \n",
    "    else:\n",
    "        print(\"Unsupported complexity\")\n",
    "\n",
    "# Example usage:\n",
    "arr = [5, 10, 15, 20, 25]\n",
    "perform_operation(arr, \"quadratic\")"
   ]
  },
  {
   "cell_type": "markdown",
   "metadata": {},
   "source": [
    "The function uses if statements to check the given time complexity and performs matching operations: constant time returns the first item, linear time prints each item once, and quadratic time prints all possible pairs using nested loops."
   ]
  }
 ],
 "metadata": {
  "language_info": {
   "name": "python"
  }
 },
 "nbformat": 4,
 "nbformat_minor": 2
}
