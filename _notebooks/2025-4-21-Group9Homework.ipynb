{
 "cells": [
  {
   "cell_type": "markdown",
   "metadata": {},
   "source": [
    "---\n",
    "layout: post\n",
    "title: Group 9 Homework Algorithim Efficiency\n",
    "description: Big O\n",
    "comments: true\n",
    "sticky_rank: 1\n",
    "---"
   ]
  },
  {
   "cell_type": "markdown",
   "metadata": {},
   "source": [
    "# Popcorn Hack 1\n",
    "\n",
    "arr = [1, 2, 3, 4, 5]\n",
    "\n",
    "# Constant time (O(1)) - Access by index\n",
    "print(arr[2])  # Third item (index starts at 0)\n",
    "\n",
    "# Linear time (O(n)) - Loop through all items\n",
    "for item in arr:\n",
    "    print(item)\n",
    "\n",
    "\n",
    "\n",
    "Explanation:\n",
    "\n",
    "arr[2] is constant time because it's a direct index access.\n",
    "\n",
    "The for loop is linear time because it processes each element once."
   ]
  }
 ],
 "metadata": {
  "language_info": {
   "name": "python"
  }
 },
 "nbformat": 4,
 "nbformat_minor": 2
}
