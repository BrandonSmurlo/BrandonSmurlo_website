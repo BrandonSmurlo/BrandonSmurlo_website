{
 "cells": [
  {
   "cell_type": "markdown",
   "metadata": {},
   "source": [
    "---\n",
    "layout: post\n",
    "title: Group 7 Homework\n",
    "description: Binary Search\n",
    "comments: true\n",
    "sticky_rank: 1\n",
    "---"
   ]
  },
  {
   "cell_type": "markdown",
   "metadata": {},
   "source": [
    "# Popcorn Hack #1\n",
    "\n",
    "The condition that must be met for the BinarySearch(numList, target) procedure to work correctly is that **the values in numList must be in sorted order**. Binary search operates by repeatedly dividing the list in half and comparing the target value to the middle element. This process only works correctly if the list is sorted, because the algorithm relies on the order of the elements to determine whether to continue searching in the left or right half. If the list is not sorted, the comparisons would not provide meaningful direction, and the algorithm could fail to find the target even if it exists in the list."
   ]
  },
  {
   "cell_type": "markdown",
   "metadata": {},
   "source": [
    "# Popcorn Hack #2\n",
    "\n",
    "The correct answer is **Binary search cannot be used on unsorted lists without modifications**. This is a key disadvantage because binary search relies on the list being sorted to function correctly. Without a sorted list, it may give incorrect results or fail to find the target entirely. The other options are incorrect: a is false because binary search is typically faster than linear search; c is incorrect because binary search does not guarantee finding the first occurrence when duplicates are present; and d is false because binary search works with duplicate values and does not require all elements to be unique."
   ]
  },
  {
   "cell_type": "markdown",
   "metadata": {},
   "source": [
    "# Popcorn Hack #3\n",
    "\n",
    "    def binary_search(arr, target):\n",
    "    low = 0\n",
    "    high = len(arr) - 1\n",
    "    \n",
    "    while low <= high:\n",
    "        mid = (low + high) // 2\n",
    "        if arr[mid] == target:\n",
    "            return mid\n",
    "        elif arr[mid] < target:\n",
    "            low = mid + 1\n",
    "        else:\n",
    "            high = mid - 1\n",
    "            \n",
    "    return -1  # target not found\n",
    "\n",
    "### Example usage:\n",
    "letters = ['a', 'b', 'c', 'd', 'e', 'f', 'g']\n",
    "print(binary_search(letters, 'c'))  # Output: 2\n"
   ]
  },
  {
   "cell_type": "markdown",
   "metadata": {},
   "source": [
    "# Homework Hack"
   ]
  },
  {
   "cell_type": "code",
   "execution_count": 3,
   "metadata": {},
   "outputs": [
    {
     "name": "stdout",
     "output_type": "stream",
     "text": [
      "First few rows of sorted data:\n",
      "        Product  Price\n",
      "5        Eraser   0.50\n",
      "14  Paper Clips   0.89\n",
      "2        Pencil   0.99\n",
      "9    Glue Stick   1.25\n",
      "1           Pen   1.50\n",
      "Original row count: 15\n",
      "Cleaned row count: 15\n",
      "Price $1.25 found at index: 3\n",
      "Price $6.49 found at index: 12\n",
      "Price not found: $10.0\n"
     ]
    }
   ],
   "source": [
    "import pandas as pd\n",
    "import math\n",
    "# Load the dataset\n",
    "data = pd.read_csv(\"school_supplies.csv\")\n",
    "# Drop rows with missing values\n",
    "data_cleaned = data.dropna()\n",
    "#  Sort the data by 'Price'\n",
    "data_sorted = data_cleaned.sort_values(by=\"Price\")\n",
    "# Extract sorted prices as a list\n",
    "price_list = data_sorted[\"Price\"].tolist()\n",
    "#  Preview the sorted data\n",
    "print(\"First few rows of sorted data:\")\n",
    "print(data_sorted.head())\n",
    "print(\"Original row count:\", len(data))\n",
    "print(\"Cleaned row count:\", len(data_cleaned))\n",
    "def binary_search(list, value):\n",
    "    start = 0\n",
    "    end = len(list)-1\n",
    "\n",
    "    def search(start, end):\n",
    "        index = math.floor((end+start)/2)\n",
    "        if list[index] == value:\n",
    "            return index\n",
    "        if list[index] > value:\n",
    "            return search(start, index-1)\n",
    "        if index == end and list[index] != value:\n",
    "            return -1\n",
    "        else:\n",
    "            return search(index+1, end)\n",
    "\n",
    "    return search(start, end)\n",
    "\n",
    "prices_to_find = [1.25, 6.49, 10.00]\n",
    "\n",
    "for price in prices_to_find:\n",
    "    price_index = binary_search(price_list, price)\n",
    "    if price_index == -1:\n",
    "        print(\"Price not found: $\" + str(price))\n",
    "    else:\n",
    "        print(\"Price $\" + str(price) + \" found at index:\", price_index)"
   ]
  },
  {
   "cell_type": "markdown",
   "metadata": {},
   "source": [
    "### Explanation\n",
    "\n",
    "The code loads a CSV dataset with product prices using Pandas. It removes rows with missing data using dropna(), then sorts the products by price. The sorted prices are extracted into a list called price_list. A binary search function is defined to search for specific price values efficiently. The function is then used to check for the presence of three specific prices: 1.25, 6.49, and 10.00. The results are printed, showing whether each price was found or not."
   ]
  }
 ],
 "metadata": {
  "kernelspec": {
   "display_name": "venv",
   "language": "python",
   "name": "python3"
  },
  "language_info": {
   "codemirror_mode": {
    "name": "ipython",
    "version": 3
   },
   "file_extension": ".py",
   "mimetype": "text/x-python",
   "name": "python",
   "nbconvert_exporter": "python",
   "pygments_lexer": "ipython3",
   "version": "3.12.7"
  }
 },
 "nbformat": 4,
 "nbformat_minor": 2
}
