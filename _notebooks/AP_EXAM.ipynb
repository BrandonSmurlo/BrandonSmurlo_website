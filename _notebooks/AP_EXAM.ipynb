{
 "cells": [
  {
   "cell_type": "code",
   "execution_count": null,
   "metadata": {},
   "outputs": [
    {
     "name": "stdout",
     "output_type": "stream",
     "text": [
      "\n",
      "Students at Risk (GPA < 2.0):\n",
      "Tim\n",
      "\n",
      "Students Performing Well (GPA ≥ 2.0):\n",
      "John\n",
      "Jane\n"
     ]
    }
   ],
   "source": [
    "def analyze_gpa(data_list):\n",
    "    at_risk = []\n",
    "    performing_well = []\n",
    "    for student in data_list:\n",
    "        name, gpa = student\n",
    "        if gpa < 2.0:\n",
    "            at_risk.append(name)\n",
    "        else:\n",
    "            performing_well.append(name)\n",
    "    print(\"\\nStudents at Risk (GPA < 2.0):\")\n",
    "    for name in at_risk:\n",
    "        print(name)\n",
    "    print(\"\\nStudents Performing Well (GPA ≥ 2.0):\")\n",
    "    for name in performing_well:\n",
    "        print(name)\n",
    "\n",
    "\n",
    "\n",
    "\n",
    "student_data = []\n",
    "\n",
    "num_students = int(input(\"Enter the number of students: \"))\n",
    "for _ in range(num_students):\n",
    "    name = input(\"Enter student name: \")\n",
    "    gpa = float(input(f\"Enter GPA for {name}: \"))\n",
    "    student_data.append((name, gpa))  \n",
    "\n",
    "\n",
    "analyze_gpa(student_data)\n",
    "\n",
    "# ChatGPT used to help refine code development, debug"
   ]
  }
 ],
 "metadata": {
  "kernelspec": {
   "display_name": "venv",
   "language": "python",
   "name": "python3"
  },
  "language_info": {
   "codemirror_mode": {
    "name": "ipython",
    "version": 3
   },
   "file_extension": ".py",
   "mimetype": "text/x-python",
   "name": "python",
   "nbconvert_exporter": "python",
   "pygments_lexer": "ipython3",
   "version": "3.12.7"
  }
 },
 "nbformat": 4,
 "nbformat_minor": 2
}
