{
 "cells": [
  {
   "cell_type": "markdown",
   "metadata": {},
   "source": [
    "---\n",
    "layout: post\n",
    "title: Group 12 Homework\n",
    "description: Logic Gates\n",
    "comments: true\n",
    "sticky_rank: 1\n",
    "---"
   ]
  },
  {
   "cell_type": "markdown",
   "metadata": {},
   "source": [
    "# Popcorn Hack 1\n",
    "\n",
    "Logic gates are fundamental to many real-world technologies, enabling important impacts across various fields. In computers and processors, logic gates perform calculations and decision-making operations, which automate complex tasks and power modern society by supporting banking, research, and entertainment. Smartphones and communication devices use logic gates to manage data and signals, allowing instant global communication and easy access to information like education and healthcare. Traffic control systems apply logic gates to manage traffic lights based on real-time conditions, improving road safety and reducing congestion. In the medical field, logic circuits inside devices like heart monitors and insulin pumps automate life-saving responses and enable continuous patient monitoring without constant human supervision. Home automation systems, or smart homes, also rely on logic gates to control lighting, security, and temperature based on sensor inputs, enhancing convenience and boosting security. These impacts are crucial because they increase efficiency, improve safety, foster constant connectivity, and drive innovation in areas like AI, robotics, and renewable energy, all thanks to the reliable decision-making processes that logic gates provide."
   ]
  },
  {
   "cell_type": "markdown",
   "metadata": {},
   "source": [
    "# Popcorn Hack 2\n",
    "\n",
    "Let's break this down carefully:\n",
    "\n",
    "The circuit outputs 1 if:\n",
    "\n",
    "X AND Y are both 1, OR\n",
    "\n",
    "Z is 1.\n",
    "\n",
    "This description directly matches the logic:\n",
    "(X AND Y) OR Z\n",
    "\n",
    "Thus, the correct answer is:\n",
    "\n",
    "✅ A. (X AND Y) OR Z"
   ]
  },
  {
   "cell_type": "markdown",
   "metadata": {},
   "source": [
    "# Homework Hack"
   ]
  },
  {
   "cell_type": "code",
   "execution_count": 1,
   "metadata": {},
   "outputs": [
    {
     "name": "stdout",
     "output_type": "stream",
     "text": [
      "1\n",
      "0\n",
      "0\n",
      "0\n"
     ]
    }
   ],
   "source": [
    "def secure_entry_system(keycard, pin, voice):\n",
    "    def AND(a, b, c):\n",
    "        return a & b & c  # AND logic\n",
    "\n",
    "    return AND(keycard, pin, voice)\n",
    "\n",
    "# Test cases\n",
    "print(secure_entry_system(1, 1, 1))  # Expected Output: 1 (Access Granted)\n",
    "print(secure_entry_system(1, 1, 0))  # Expected Output: 0 (Access Denied)\n",
    "print(secure_entry_system(0, 1, 1))  # Expected Output: 0 (Access Denied)\n",
    "print(secure_entry_system(1, 0, 1))  # Expected Output: 0 (Access Denied)\n"
   ]
  }
 ],
 "metadata": {
  "kernelspec": {
   "display_name": "venv",
   "language": "python",
   "name": "python3"
  },
  "language_info": {
   "codemirror_mode": {
    "name": "ipython",
    "version": 3
   },
   "file_extension": ".py",
   "mimetype": "text/x-python",
   "name": "python",
   "nbconvert_exporter": "python",
   "pygments_lexer": "ipython3",
   "version": "3.12.7"
  }
 },
 "nbformat": 4,
 "nbformat_minor": 2
}
