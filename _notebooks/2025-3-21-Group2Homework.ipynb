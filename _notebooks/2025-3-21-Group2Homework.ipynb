{
 "cells": [
  {
   "cell_type": "markdown",
   "metadata": {},
   "source": [
    "---\n",
    "layout: post\n",
    "title: Group 2 Homework\n",
    "description: Digital Divide\n",
    "comments: true\n",
    "sticky_rank: 1\n",
    "---"
   ]
  },
  {
   "cell_type": "markdown",
   "metadata": {},
   "source": [
    "**Popcorn Hack: Example Problem in MCQ**\n",
    "\n",
    "Question: Which of the following actions are likely to be helpful in reducing the digital divide? Select two answers.\n",
    "\n",
    "Options\n",
    "\n",
    "A. Designing new technologies intended only for advanced users\n",
    "B. Designing new technologies to be accessible to individuals with different physical abilities\n",
    "C. Implementing government regulations restricting citizens’ access to Web content\n",
    "D. Having world governments support the construction of network infrastructure\n",
    "\n",
    "***Correct answers: B, D***"
   ]
  },
  {
   "cell_type": "markdown",
   "metadata": {},
   "source": [
    "**MCQ Review (from 2020)**\n",
    "\n",
    "***Which of the following actions are likely to be helpful in reducing the digital divide?***\n",
    "\n",
    "***Select two answers.***\n",
    "\n",
    "A. Designing new technologies intended only for advanced users\n",
    "\n",
    "B. Designing new technologies to be accessible to individuals with different physical abilities\n",
    "\n",
    "C. Implementing government regulations restricting citizens’ access to Web content\n",
    "\n",
    "D. Having world governments support the construction of network infrastructure\n",
    "\n",
    "**Answers: B, D**"
   ]
  },
  {
   "cell_type": "markdown",
   "metadata": {},
   "source": [
    "**Popcorn Hack**\n",
    "\n",
    "How would you attempt to fix the digital divide or prevent it from being as prevalent in our community? What are some things that are already being done? What are some things we can add? Explain.\n",
    "\n",
    "**Answer**\n",
    "\n",
    "The digital divide is the gap between those with access to modern technology and those without. Efforts to bridge this gap include public Wi-Fi programs, tech donations, digital literacy training, and community tech hubs. To further reduce the divide, we can expand broadband infrastructure, create mobile tech classrooms, establish mentorship programs, develop affordable tech solutions, and encourage partnerships between schools and businesses. By improving access to technology and education, we can ensure more people have the digital skills needed to succeed in today’s world."
   ]
  },
  {
   "cell_type": "markdown",
   "metadata": {},
   "source": [
    "### Homework Hack\n",
    "\n",
    "Digital Divide Homework\n",
    "DOWNLOAD AND COPY THIS NOTEBOOK TO YOUR PERSONAL REPOSITORY\n",
    "\n",
    "Download and extract this dataset from kaggle and move it into the same folder as this notebook.\n",
    "\n",
    "All the preprocessing has been done for you, and the unneeded columns have been dropped. Your task is to loop through the Rate (WB) column and print the country name associated with the percentage, the percentage, and \"doing great\" if the percentage is above 70% or \"needs improvement\" if not above 70%.\n",
    "\n",
    "For example, 18.4% of people in Afghanistan have access to the internet (According to data from the World Bank), so you would print \"Afghanistan: 18.4: Needs improvement\"\n",
    "\n",
    "On the other hand, Albania has 83.1% internet access so you would print \"Albania: 83.1%: doing great\"\n",
    "\n",
    "\n",
    "     \n",
    "Submission Instructions\n",
    "DM the link to your notebook on your personal repository with all the code cells executed to Aditya Katre on Slack.\n",
    "\n",
    "Also write a 3 sentence summary of what you added and HOW it works."
   ]
  },
  {
   "cell_type": "code",
   "execution_count": null,
   "metadata": {},
   "outputs": [
    {
     "ename": "",
     "evalue": "",
     "output_type": "error",
     "traceback": [
      "\u001b[1;31mRunning cells with '3.12 (Python 3.12.7)' requires the ipykernel package.\n",
      "\u001b[1;31mRun the following command to install 'ipykernel' into the Python environment. \n",
      "\u001b[1;31mCommand: '/opt/homebrew/opt/python@3.12/bin/python3.12 -m pip install ipykernel -U --force-reinstall'"
     ]
    }
   ],
   "source": [
    "import pandas as pd\n",
    "\n",
    "data = pd.read_csv(\"internet_users.csv\").drop(columns=['Notes', 'Year.2', 'Users (CIA)', 'Rate (ITU)', 'Year.1']) # Drop extra columns: we will not be using these\n",
    "\n",
    "data_cleaned = data.dropna() # Drop rows with NaN (aka blank) values\n",
    "\n",
    "print(data_cleaned.head()) # Display the first few rows of the cleaned data\n",
    "\n",
    "# print(len(data)) # Check num of rows before removing blank rows\n",
    "# print(len(data_cleaned)) # Check num of rows after removing blank rows\n"
   ]
  },
  {
   "cell_type": "code",
   "execution_count": null,
   "metadata": {},
   "outputs": [],
   "source": [
    "y = data_cleaned['Rate (WB)'] # Take Percentage of the population using the internet from World Bank data in dataset\n",
    "name = data_cleaned['Location'] # take contry name from WB data in dataset\n",
    "\n",
    "# [INSERT YOUR CODE HERE]\n"
   ]
  },
  {
   "cell_type": "code",
   "execution_count": null,
   "metadata": {},
   "outputs": [],
   "source": [
    "# Loop through the Rate (WB) column and print the required output\n",
    "for country, rate in zip(name, y):\n",
    "    status = \"doing great\" if rate > 70 else \"needs improvement\"\n",
    "    print(f\"{country}: {rate}%: {status}\")\n"
   ]
  },
  {
   "cell_type": "markdown",
   "metadata": {},
   "source": [
    "This code works by iterating through both the country names (name) and internet access rates (y) simultaneously. It checks if the percentage is above 70% and assigns either \"doing great\" or \"needs improvement\" accordingly before printing the formatted result."
   ]
  }
 ],
 "metadata": {
  "kernelspec": {
   "display_name": "3.12",
   "language": "python",
   "name": "python3"
  },
  "language_info": {
   "name": "python",
   "version": "3.12.7"
  }
 },
 "nbformat": 4,
 "nbformat_minor": 2
}
